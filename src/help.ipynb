{
 "cells": [
  {
   "cell_type": "code",
   "id": "initial_id",
   "metadata": {
    "collapsed": true,
    "ExecuteTime": {
     "end_time": "2025-08-15T12:24:53.817230Z",
     "start_time": "2025-08-15T12:24:53.814254Z"
    }
   },
   "source": [
    "md = \"\"\"\n",
    "    This is a paragraph with **bold** text\n",
    "\n",
    "    This is another paragraph with _italic_ text\n",
    "\n",
    "    - List item 1\n",
    "    - List item 2\n",
    "    \"\"\""
   ],
   "outputs": [],
   "execution_count": 44
  },
  {
   "metadata": {
    "ExecuteTime": {
     "end_time": "2025-08-15T12:25:26.407044Z",
     "start_time": "2025-08-15T12:25:26.403988Z"
    }
   },
   "cell_type": "code",
   "source": [
    "def markdown_to_blocks(markdown):\n",
    "    blocks = markdown.split(\"\\n\\n\")\n",
    "    filtered_blocks = []\n",
    "    for block in blocks:\n",
    "        if block == \"\":\n",
    "            continue\n",
    "        block = block.strip()\n",
    "        filtered_blocks.append(block)\n",
    "    return filtered_blocks\n"
   ],
   "id": "25e11d532ec74791",
   "outputs": [],
   "execution_count": 47
  },
  {
   "metadata": {
    "ExecuteTime": {
     "end_time": "2025-08-15T12:25:26.677099Z",
     "start_time": "2025-08-15T12:25:26.673208Z"
    }
   },
   "cell_type": "code",
   "source": "markdown_to_blocks(md)",
   "id": "e4d25dbd4607b01d",
   "outputs": [
    {
     "data": {
      "text/plain": [
       "['This is a paragraph with **bold** text',\n",
       " 'This is another paragraph with _italic_ text',\n",
       " '- List item 1\\n    - List item 2']"
      ]
     },
     "execution_count": 48,
     "metadata": {},
     "output_type": "execute_result"
    }
   ],
   "execution_count": 48
  },
  {
   "metadata": {},
   "cell_type": "code",
   "outputs": [],
   "execution_count": null,
   "source": "",
   "id": "8830c3cc6619adaf"
  }
 ],
 "metadata": {
  "kernelspec": {
   "display_name": "Python 3",
   "language": "python",
   "name": "python3"
  },
  "language_info": {
   "codemirror_mode": {
    "name": "ipython",
    "version": 2
   },
   "file_extension": ".py",
   "mimetype": "text/x-python",
   "name": "python",
   "nbconvert_exporter": "python",
   "pygments_lexer": "ipython2",
   "version": "2.7.6"
  }
 },
 "nbformat": 4,
 "nbformat_minor": 5
}
